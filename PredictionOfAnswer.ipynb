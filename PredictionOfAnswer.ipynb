{
  "nbformat": 4,
  "nbformat_minor": 0,
  "metadata": {
    "colab": {
      "name": "PredictionOfAnswer.ipynb",
      "provenance": [],
      "collapsed_sections": [],
      "include_colab_link": true
    },
    "kernelspec": {
      "display_name": "Python 3",
      "name": "python3"
    },
    "language_info": {
      "name": "python"
    }
  },
  "cells": [
    {
      "cell_type": "markdown",
      "metadata": {
        "id": "view-in-github",
        "colab_type": "text"
      },
      "source": [
        "<a href=\"https://colab.research.google.com/github/BonganiSomba/Machine_Learning_For_Supply_Chain/blob/main/PredictionOfAnswer.ipynb\" target=\"_parent\"><img src=\"https://colab.research.google.com/assets/colab-badge.svg\" alt=\"Open In Colab\"/></a>"
      ]
    },
    {
      "cell_type": "markdown",
      "metadata": {
        "id": "8asF07R5EcqM"
      },
      "source": [
        "###Importing the Module and Data"
      ]
    },
    {
      "cell_type": "code",
      "metadata": {
        "id": "wYtciT2RvHcK"
      },
      "source": [
        "####importing modules  \n",
        "import pandas as pd\n",
        "import numpy as np\n",
        "from sklearn.datasets import make_classification\n",
        "import matplotlib.pyplot as plt\n",
        "from sklearn.metrics import confusion_matrix\n",
        "import seaborn as sns\n",
        "import matplotlib.pyplot as plt\n",
        "%matplotlib inline\n",
        "#!pip install -U imbalanced-learn \n",
        "#!pip install -U delayed\n",
        "\n",
        "import pickle"
      ],
      "execution_count": 1,
      "outputs": []
    },
    {
      "cell_type": "code",
      "metadata": {
        "id": "l9jJoqtffosL"
      },
      "source": [
        "from google.colab import drive\n",
        "drive.mount('/content/drive')"
      ],
      "execution_count": null,
      "outputs": []
    },
    {
      "cell_type": "code",
      "metadata": {
        "colab": {
          "base_uri": "https://localhost:8080/",
          "height": 289
        },
        "id": "bZxTTHJtwMdS",
        "outputId": "c130fd6c-69fe-4a15-ab83-fff455f2ecac"
      },
      "source": [
        "####### importing data\n",
        "\n",
        "\n",
        "df = pd.read_excel(\"TBD of Collaborated_Report_1_Page 1_Table.xlsx\")\n",
        "df.head()\n"
      ],
      "execution_count": 2,
      "outputs": [
        {
          "output_type": "execute_result",
          "data": {
            "text/html": [
              "<div>\n",
              "<style scoped>\n",
              "    .dataframe tbody tr th:only-of-type {\n",
              "        vertical-align: middle;\n",
              "    }\n",
              "\n",
              "    .dataframe tbody tr th {\n",
              "        vertical-align: top;\n",
              "    }\n",
              "\n",
              "    .dataframe thead th {\n",
              "        text-align: right;\n",
              "    }\n",
              "</style>\n",
              "<table border=\"1\" class=\"dataframe\">\n",
              "  <thead>\n",
              "    <tr style=\"text-align: right;\">\n",
              "      <th></th>\n",
              "      <th>Date</th>\n",
              "      <th>Language</th>\n",
              "      <th>User</th>\n",
              "      <th>Question</th>\n",
              "      <th>Answer</th>\n",
              "      <th>Right_Or_Wrong</th>\n",
              "      <th>new_score</th>\n",
              "      <th>last_core</th>\n",
              "    </tr>\n",
              "  </thead>\n",
              "  <tbody>\n",
              "    <tr>\n",
              "      <th>0</th>\n",
              "      <td>27 Sept 2021, 06:50:49</td>\n",
              "      <td>GERMAN</td>\n",
              "      <td>kell.kvist@gmail.com</td>\n",
              "      <td>Er liest</td>\n",
              "      <td>ER LIEST</td>\n",
              "      <td>True</td>\n",
              "      <td>212.0</td>\n",
              "      <td>211.0</td>\n",
              "    </tr>\n",
              "    <tr>\n",
              "      <th>1</th>\n",
              "      <td>27 Sept 2021, 06:49:55</td>\n",
              "      <td>ENGLISH</td>\n",
              "      <td>kell.kvist@gmail.com</td>\n",
              "      <td>I feel sleepy</td>\n",
              "      <td>I FEEL SLEEPY</td>\n",
              "      <td>True</td>\n",
              "      <td>138.0</td>\n",
              "      <td>137.0</td>\n",
              "    </tr>\n",
              "    <tr>\n",
              "      <th>2</th>\n",
              "      <td>27 Sept 2021, 06:48:13</td>\n",
              "      <td>DANISH</td>\n",
              "      <td>kell.kvist@gmail.com</td>\n",
              "      <td>De føler varmen</td>\n",
              "      <td>DE FØLER VARMEN</td>\n",
              "      <td>True</td>\n",
              "      <td>146.0</td>\n",
              "      <td>145.0</td>\n",
              "    </tr>\n",
              "    <tr>\n",
              "      <th>3</th>\n",
              "      <td>27 Sept 2021, 06:35:50</td>\n",
              "      <td>ENGLISH</td>\n",
              "      <td>kell.kvist@gmail.com</td>\n",
              "      <td>No problem</td>\n",
              "      <td>NO PROBLEM</td>\n",
              "      <td>True</td>\n",
              "      <td>137.0</td>\n",
              "      <td>136.0</td>\n",
              "    </tr>\n",
              "    <tr>\n",
              "      <th>4</th>\n",
              "      <td>27 Sept 2021, 06:35:41</td>\n",
              "      <td>ENGLISH</td>\n",
              "      <td>kell.kvist@gmail.com</td>\n",
              "      <td>No problem</td>\n",
              "      <td>NO PROBLE</td>\n",
              "      <td>False</td>\n",
              "      <td>NaN</td>\n",
              "      <td>NaN</td>\n",
              "    </tr>\n",
              "  </tbody>\n",
              "</table>\n",
              "</div>"
            ],
            "text/plain": [
              "                     Date Language  ... new_score last_core\n",
              "0  27 Sept 2021, 06:50:49   GERMAN  ...     212.0     211.0\n",
              "1  27 Sept 2021, 06:49:55  ENGLISH  ...     138.0     137.0\n",
              "2  27 Sept 2021, 06:48:13   DANISH  ...     146.0     145.0\n",
              "3  27 Sept 2021, 06:35:50  ENGLISH  ...     137.0     136.0\n",
              "4  27 Sept 2021, 06:35:41  ENGLISH  ...       NaN       NaN\n",
              "\n",
              "[5 rows x 8 columns]"
            ]
          },
          "metadata": {},
          "execution_count": 2
        }
      ]
    },
    {
      "cell_type": "markdown",
      "metadata": {
        "id": "FrC_EUjLjfU4"
      },
      "source": [
        "###Data Exploration \n",
        "\n",
        "We will explore our data and to see what types of changes we can perfom in our dataset "
      ]
    },
    {
      "cell_type": "code",
      "metadata": {
        "colab": {
          "base_uri": "https://localhost:8080/",
          "height": 297
        },
        "id": "qH_EgqyX455P",
        "outputId": "c743aa21-b30e-49c7-b410-4fac3639b08d"
      },
      "source": [
        "#This is representation of True and False, as we can see the Data is not well balanced. Which we should keep in mind for later \n",
        "\n",
        "\n",
        "sns.countplot(x='Right_Or_Wrong',data=df, palette='RdBu_r')"
      ],
      "execution_count": 3,
      "outputs": [
        {
          "output_type": "execute_result",
          "data": {
            "text/plain": [
              "<matplotlib.axes._subplots.AxesSubplot at 0x7faf93e4a050>"
            ]
          },
          "metadata": {},
          "execution_count": 3
        },
        {
          "output_type": "display_data",
          "data": {
            "image/png": "[encoded data removed]",
            "text/plain": [
              "<Figure size 432x288 with 1 Axes>"
            ]
          },
          "metadata": {
            "needs_background": "light"
          }
        }
      ]
    },
    {
      "cell_type": "code",
      "metadata": {
        "colab": {
          "base_uri": "https://localhost:8080/",
          "height": 296
        },
        "id": "WKA8FFR147n2",
        "outputId": "aa87e7bc-68cf-4df1-b52c-a15900dbe18d"
      },
      "source": [
        "# this is a represtation of different langueges we have on our dataset. \n",
        "sns.countplot(x='Language',data=df, palette='RdBu_r')"
      ],
      "execution_count": 4,
      "outputs": [
        {
          "output_type": "execute_result",
          "data": {
            "text/plain": [
              "<matplotlib.axes._subplots.AxesSubplot at 0x7faf93ea6e10>"
            ]
          },
          "metadata": {},
          "execution_count": 4
        },
        {
          "output_type": "display_data",
          "data": {
            "image/png": "[encoded data removed]",
            "text/plain": [
              "<Figure size 432x288 with 1 Axes>"
            ]
          },
          "metadata": {
            "needs_background": "light"
          }
        }
      ]
    },
    {
      "cell_type": "code",
      "metadata": {
        "colab": {
          "base_uri": "https://localhost:8080/",
          "height": 298
        },
        "id": "LGATqeJBkRPn",
        "outputId": "5132727a-a44d-4b88-95a2-0a834e29d9ac"
      },
      "source": [
        "##### this we try to check how many users took the task, so far there's only one users.\n",
        "sns.countplot(x='User',data=df,palette='Accent')"
      ],
      "execution_count": 5,
      "outputs": [
        {
          "output_type": "execute_result",
          "data": {
            "text/plain": [
              "<matplotlib.axes._subplots.AxesSubplot at 0x7faf9392bc50>"
            ]
          },
          "metadata": {},
          "execution_count": 5
        },
        {
          "output_type": "display_data",
          "data": {
            "image/png": "[encoded data removed]",
            "text/plain": [
              "<Figure size 432x288 with 1 Axes>"
            ]
          },
          "metadata": {
            "needs_background": "light"
          }
        }
      ]
    },
    {
      "cell_type": "markdown",
      "metadata": {
        "id": "7P9unPeSwYu8"
      },
      "source": [
        "##Data pre Processing\n",
        "\n",
        "We will do data cleaning sincce we working with NLP project we will convert all the words into numerical methods\n"
      ]
    },
    {
      "cell_type": "code",
      "metadata": {
        "colab": {
          "base_uri": "https://localhost:8080/"
        },
        "id": "3se4NsjNoEMg",
        "outputId": "ce251615-c73e-4cba-bc6f-f3ac78acb926"
      },
      "source": [
        "#### checking the number of our missing values in our dataset\n",
        "### we won't need to remove \n",
        "df.isnull().sum()"
      ],
      "execution_count": 6,
      "outputs": [
        {
          "output_type": "execute_result",
          "data": {
            "text/plain": [
              "Date               0\n",
              "Language           0\n",
              "User               0\n",
              "Question           0\n",
              "Answer             0\n",
              "Right_Or_Wrong     0\n",
              "new_score         78\n",
              "last_core         78\n",
              "dtype: int64"
            ]
          },
          "metadata": {},
          "execution_count": 6
        }
      ]
    },
    {
      "cell_type": "code",
      "metadata": {
        "id": "kFHSYj9vq400"
      },
      "source": [
        "#df['new_score_null'] = np.where(df['new_score'].isnull(),1,0)\n",
        "#df['last_core_null'] = np.where(df['last_core'].isnull(),1,0)\n",
        "#df['last_core_null'].mean() ### we will like to check the % of na in our dataset "
      ],
      "execution_count": null,
      "outputs": []
    },
    {
      "cell_type": "code",
      "metadata": {
        "colab": {
          "base_uri": "https://localhost:8080/",
          "height": 353
        },
        "id": "--3uV05BSC39",
        "outputId": "b16490bf-c063-4dab-aaa5-ba74c58db750"
      },
      "source": [
        "##### plot the graph that will check for any missing values\n",
        "\n",
        "sns.heatmap(df.isnull(),yticklabels=False, cbar= False,cmap= 'viridis')"
      ],
      "execution_count": null,
      "outputs": [
        {
          "output_type": "execute_result",
          "data": {
            "text/plain": [
              "<matplotlib.axes._subplots.AxesSubplot at 0x7f4537f250d0>"
            ]
          },
          "metadata": {},
          "execution_count": 11
        },
        {
          "output_type": "display_data",
          "data": {
            "image/png": "[encoded data removed]",
            "text/plain": [
              "<Figure size 432x288 with 1 Axes>"
            ]
          },
          "metadata": {
            "needs_background": "light"
          }
        }
      ]
    },
    {
      "cell_type": "markdown",
      "metadata": {
        "id": "0djzXM1Xz7gi"
      },
      "source": [
        "##removing of na\n",
        "Since we now replace NA with some numerical values, we will plot the graphs to see if the new values did not affect our initial values. "
      ]
    },
    {
      "cell_type": "code",
      "metadata": {
        "colab": {
          "base_uri": "https://localhost:8080/",
          "height": 524
        },
        "id": "ekCIXDjjG0xa",
        "outputId": "cf50247a-bc72-4719-8033-6c557d5a58cd"
      },
      "source": [
        "##### since our dataset have NUll we will want to work and solve this before we pass Data into the model\n",
        "## the approuch we will use is interpolation by use of numerical methods. \n",
        "\n",
        "\n",
        "new_data = df.interpolate(method='quadratic')\n",
        "new_data['new_score.fix'] = new_data['new_score']\n",
        "new_data['last_core.fix'] = new_data['last_core']\n",
        "new_data.head(7)"
      ],
      "execution_count": null,
      "outputs": [
        {
          "output_type": "execute_result",
          "data": {
            "text/html": [
              "<div>\n",
              "<style scoped>\n",
              "    .dataframe tbody tr th:only-of-type {\n",
              "        vertical-align: middle;\n",
              "    }\n",
              "\n",
              "    .dataframe tbody tr th {\n",
              "        vertical-align: top;\n",
              "    }\n",
              "\n",
              "    .dataframe thead th {\n",
              "        text-align: right;\n",
              "    }\n",
              "</style>\n",
              "<table border=\"1\" class=\"dataframe\">\n",
              "  <thead>\n",
              "    <tr style=\"text-align: right;\">\n",
              "      <th></th>\n",
              "      <th>Date</th>\n",
              "      <th>Language</th>\n",
              "      <th>User</th>\n",
              "      <th>Question</th>\n",
              "      <th>Answer</th>\n",
              "      <th>Right_Or_Wrong</th>\n",
              "      <th>new_score</th>\n",
              "      <th>last_core</th>\n",
              "      <th>new_score.fix</th>\n",
              "      <th>last_core.fix</th>\n",
              "    </tr>\n",
              "  </thead>\n",
              "  <tbody>\n",
              "    <tr>\n",
              "      <th>0</th>\n",
              "      <td>27 Sept 2021, 06:50:49</td>\n",
              "      <td>GERMAN</td>\n",
              "      <td>kell.kvist@gmail.com</td>\n",
              "      <td>Er liest</td>\n",
              "      <td>ER LIEST</td>\n",
              "      <td>True</td>\n",
              "      <td>212.000000</td>\n",
              "      <td>211.000000</td>\n",
              "      <td>212.000000</td>\n",
              "      <td>211.000000</td>\n",
              "    </tr>\n",
              "    <tr>\n",
              "      <th>1</th>\n",
              "      <td>27 Sept 2021, 06:49:55</td>\n",
              "      <td>ENGLISH</td>\n",
              "      <td>kell.kvist@gmail.com</td>\n",
              "      <td>I feel sleepy</td>\n",
              "      <td>I FEEL SLEEPY</td>\n",
              "      <td>True</td>\n",
              "      <td>138.000000</td>\n",
              "      <td>137.000000</td>\n",
              "      <td>138.000000</td>\n",
              "      <td>137.000000</td>\n",
              "    </tr>\n",
              "    <tr>\n",
              "      <th>2</th>\n",
              "      <td>27 Sept 2021, 06:48:13</td>\n",
              "      <td>DANISH</td>\n",
              "      <td>kell.kvist@gmail.com</td>\n",
              "      <td>De føler varmen</td>\n",
              "      <td>DE FØLER VARMEN</td>\n",
              "      <td>True</td>\n",
              "      <td>146.000000</td>\n",
              "      <td>145.000000</td>\n",
              "      <td>146.000000</td>\n",
              "      <td>145.000000</td>\n",
              "    </tr>\n",
              "    <tr>\n",
              "      <th>3</th>\n",
              "      <td>27 Sept 2021, 06:35:50</td>\n",
              "      <td>ENGLISH</td>\n",
              "      <td>kell.kvist@gmail.com</td>\n",
              "      <td>No problem</td>\n",
              "      <td>NO PROBLEM</td>\n",
              "      <td>True</td>\n",
              "      <td>137.000000</td>\n",
              "      <td>136.000000</td>\n",
              "      <td>137.000000</td>\n",
              "      <td>136.000000</td>\n",
              "    </tr>\n",
              "    <tr>\n",
              "      <th>4</th>\n",
              "      <td>27 Sept 2021, 06:35:41</td>\n",
              "      <td>ENGLISH</td>\n",
              "      <td>kell.kvist@gmail.com</td>\n",
              "      <td>No problem</td>\n",
              "      <td>NO PROBLE</td>\n",
              "      <td>False</td>\n",
              "      <td>133.313480</td>\n",
              "      <td>132.313480</td>\n",
              "      <td>133.313480</td>\n",
              "      <td>132.313480</td>\n",
              "    </tr>\n",
              "    <tr>\n",
              "      <th>5</th>\n",
              "      <td>27 Sept 2021, 06:35:22</td>\n",
              "      <td>ENGLISH</td>\n",
              "      <td>kell.kvist@gmail.com</td>\n",
              "      <td>No problem</td>\n",
              "      <td>NO PRIBLEM</td>\n",
              "      <td>False</td>\n",
              "      <td>139.833946</td>\n",
              "      <td>138.833946</td>\n",
              "      <td>139.833946</td>\n",
              "      <td>138.833946</td>\n",
              "    </tr>\n",
              "    <tr>\n",
              "      <th>6</th>\n",
              "      <td>27 Sept 2021, 06:04:39</td>\n",
              "      <td>DANISH</td>\n",
              "      <td>kell.kvist@gmail.com</td>\n",
              "      <td>Mange problemer</td>\n",
              "      <td>MANGE PROBLEMER</td>\n",
              "      <td>True</td>\n",
              "      <td>146.000000</td>\n",
              "      <td>145.000000</td>\n",
              "      <td>146.000000</td>\n",
              "      <td>145.000000</td>\n",
              "    </tr>\n",
              "  </tbody>\n",
              "</table>\n",
              "</div>"
            ],
            "text/plain": [
              "                     Date Language  ... new_score.fix last_core.fix\n",
              "0  27 Sept 2021, 06:50:49   GERMAN  ...    212.000000    211.000000\n",
              "1  27 Sept 2021, 06:49:55  ENGLISH  ...    138.000000    137.000000\n",
              "2  27 Sept 2021, 06:48:13   DANISH  ...    146.000000    145.000000\n",
              "3  27 Sept 2021, 06:35:50  ENGLISH  ...    137.000000    136.000000\n",
              "4  27 Sept 2021, 06:35:41  ENGLISH  ...    133.313480    132.313480\n",
              "5  27 Sept 2021, 06:35:22  ENGLISH  ...    139.833946    138.833946\n",
              "6  27 Sept 2021, 06:04:39   DANISH  ...    146.000000    145.000000\n",
              "\n",
              "[7 rows x 10 columns]"
            ]
          },
          "metadata": {},
          "execution_count": 12
        }
      ]
    },
    {
      "cell_type": "code",
      "metadata": {
        "colab": {
          "base_uri": "https://localhost:8080/",
          "height": 353
        },
        "id": "KNRQ2PvXRnXL",
        "outputId": "3f1943c1-cefd-41a0-b32c-c08c35b145b7"
      },
      "source": [
        "##### plot the graph that will check for any missing values\n",
        "\n",
        "sns.heatmap(new_data.isnull(),yticklabels=False, cbar= False,cmap= 'viridis')"
      ],
      "execution_count": null,
      "outputs": [
        {
          "output_type": "execute_result",
          "data": {
            "text/plain": [
              "<matplotlib.axes._subplots.AxesSubplot at 0x7f4537c370d0>"
            ]
          },
          "metadata": {},
          "execution_count": 13
        },
        {
          "output_type": "display_data",
          "data": {
            "image/png": "[encoded data removed]",
            "text/plain": [
              "<Figure size 432x288 with 1 Axes>"
            ]
          },
          "metadata": {
            "needs_background": "light"
          }
        }
      ]
    },
    {
      "cell_type": "code",
      "metadata": {
        "colab": {
          "base_uri": "https://localhost:8080/",
          "height": 282
        },
        "id": "9-7bN1P_z1p7",
        "outputId": "cd74f847-6316-4360-f9d6-78df66633133"
      },
      "source": [
        "##### new_score vs new_score.fix\n",
        "fig = plt.figure()\n",
        "ax = fig.add_subplot(111)\n",
        "df['new_score'].plot(kind='kde', ax=ax)\n",
        "new_data['last_core.fix'].plot(kind='kde', ax=ax, color='red')\n",
        "lines,labels = ax.get_legend_handles_labels()\n",
        "ax.legend(lines,labels, loc='best')"
      ],
      "execution_count": null,
      "outputs": [
        {
          "output_type": "execute_result",
          "data": {
            "text/plain": [
              "<matplotlib.legend.Legend at 0x7f4538820850>"
            ]
          },
          "metadata": {},
          "execution_count": 14
        },
        {
          "output_type": "display_data",
          "data": {
            "image/png": "[encoded data removed]",
            "text/plain": [
              "<Figure size 432x288 with 1 Axes>"
            ]
          },
          "metadata": {
            "needs_background": "light"
          }
        }
      ]
    },
    {
      "cell_type": "code",
      "metadata": {
        "colab": {
          "base_uri": "https://localhost:8080/",
          "height": 282
        },
        "id": "CPrJfpbbxMXm",
        "outputId": "5b74b2f3-5ee0-4046-f9a8-482d2619f3ef"
      },
      "source": [
        "#### last_score vs last_score.fix\n",
        "fig = plt.figure()\n",
        "ax = fig.add_subplot(111)\n",
        "df['last_core'].plot(kind='kde', ax=ax)\n",
        "new_data['last_core.fix'].plot(kind='kde', ax=ax, color='red')\n",
        "lines,labels = ax.get_legend_handles_labels()\n",
        "ax.legend(lines,labels, loc='best')"
      ],
      "execution_count": null,
      "outputs": [
        {
          "output_type": "execute_result",
          "data": {
            "text/plain": [
              "<matplotlib.legend.Legend at 0x7f453884de10>"
            ]
          },
          "metadata": {},
          "execution_count": 15
        },
        {
          "output_type": "display_data",
          "data": {
            "image/png": "[encoded data removed]",
            "text/plain": [
              "<Figure size 432x288 with 1 Axes>"
            ]
          },
          "metadata": {
            "needs_background": "light"
          }
        }
      ]
    },
    {
      "cell_type": "markdown",
      "metadata": {
        "id": "X8rnx7alH-6D"
      },
      "source": [
        "##Data Exploration "
      ]
    },
    {
      "cell_type": "code",
      "metadata": {
        "colab": {
          "base_uri": "https://localhost:8080/",
          "height": 199
        },
        "id": "6B6g3miqu7Sv",
        "outputId": "c001e084-ae8f-4624-c3be-d6986d1cd9e5"
      },
      "source": [
        "### We will create a numerical values for Language so it can be easy to work with \n",
        "## note thay the sklearn will asssiing the numerical values to each language \n",
        "from sklearn.preprocessing import LabelEncoder\n",
        "\n",
        "le = LabelEncoder()\n",
        "dfle = new_data\n",
        "dfle['Language'] = le.fit_transform(dfle['Language'])\n",
        "new_data.head(2)"
      ],
      "execution_count": null,
      "outputs": [
        {
          "output_type": "execute_result",
          "data": {
            "text/html": [
              "<div>\n",
              "<style scoped>\n",
              "    .dataframe tbody tr th:only-of-type {\n",
              "        vertical-align: middle;\n",
              "    }\n",
              "\n",
              "    .dataframe tbody tr th {\n",
              "        vertical-align: top;\n",
              "    }\n",
              "\n",
              "    .dataframe thead th {\n",
              "        text-align: right;\n",
              "    }\n",
              "</style>\n",
              "<table border=\"1\" class=\"dataframe\">\n",
              "  <thead>\n",
              "    <tr style=\"text-align: right;\">\n",
              "      <th></th>\n",
              "      <th>Date</th>\n",
              "      <th>Language</th>\n",
              "      <th>User</th>\n",
              "      <th>Question</th>\n",
              "      <th>Answer</th>\n",
              "      <th>Right_Or_Wrong</th>\n",
              "      <th>new_score</th>\n",
              "      <th>last_core</th>\n",
              "      <th>new_score.fix</th>\n",
              "      <th>last_core.fix</th>\n",
              "    </tr>\n",
              "  </thead>\n",
              "  <tbody>\n",
              "    <tr>\n",
              "      <th>0</th>\n",
              "      <td>27 Sept 2021, 06:50:49</td>\n",
              "      <td>2</td>\n",
              "      <td>kell.kvist@gmail.com</td>\n",
              "      <td>Er liest</td>\n",
              "      <td>ER LIEST</td>\n",
              "      <td>True</td>\n",
              "      <td>212.0</td>\n",
              "      <td>211.0</td>\n",
              "      <td>212.0</td>\n",
              "      <td>211.0</td>\n",
              "    </tr>\n",
              "    <tr>\n",
              "      <th>1</th>\n",
              "      <td>27 Sept 2021, 06:49:55</td>\n",
              "      <td>1</td>\n",
              "      <td>kell.kvist@gmail.com</td>\n",
              "      <td>I feel sleepy</td>\n",
              "      <td>I FEEL SLEEPY</td>\n",
              "      <td>True</td>\n",
              "      <td>138.0</td>\n",
              "      <td>137.0</td>\n",
              "      <td>138.0</td>\n",
              "      <td>137.0</td>\n",
              "    </tr>\n",
              "  </tbody>\n",
              "</table>\n",
              "</div>"
            ],
            "text/plain": [
              "                     Date  Language  ... new_score.fix last_core.fix\n",
              "0  27 Sept 2021, 06:50:49         2  ...         212.0         211.0\n",
              "1  27 Sept 2021, 06:49:55         1  ...         138.0         137.0\n",
              "\n",
              "[2 rows x 10 columns]"
            ]
          },
          "metadata": {},
          "execution_count": 20
        }
      ]
    },
    {
      "cell_type": "code",
      "metadata": {
        "id": "OsI3nSW61NCc"
      },
      "source": [
        "##### we will only keep the column that will be used the model. \n",
        "\n",
        "\n",
        "new_data.drop(['Date','User','Question','Answer','new_score','last_core'], inplace= True, axis= 1)\n"
      ],
      "execution_count": null,
      "outputs": []
    },
    {
      "cell_type": "code",
      "metadata": {
        "colab": {
          "base_uri": "https://localhost:8080/",
          "height": 111
        },
        "id": "vMqRWbwlY1Ez",
        "outputId": "516b2d54-21f1-4f04-ab03-6bb8f59d202b"
      },
      "source": [
        "#### converting True or False into 1 and 0\n",
        "new_data['Right_Or_Wrong'] = new_data['Right_Or_Wrong'].astype(int)\n",
        "new_data.head(2)"
      ],
      "execution_count": null,
      "outputs": [
        {
          "output_type": "execute_result",
          "data": {
            "text/html": [
              "<div>\n",
              "<style scoped>\n",
              "    .dataframe tbody tr th:only-of-type {\n",
              "        vertical-align: middle;\n",
              "    }\n",
              "\n",
              "    .dataframe tbody tr th {\n",
              "        vertical-align: top;\n",
              "    }\n",
              "\n",
              "    .dataframe thead th {\n",
              "        text-align: right;\n",
              "    }\n",
              "</style>\n",
              "<table border=\"1\" class=\"dataframe\">\n",
              "  <thead>\n",
              "    <tr style=\"text-align: right;\">\n",
              "      <th></th>\n",
              "      <th>Language</th>\n",
              "      <th>Right_Or_Wrong</th>\n",
              "      <th>new_score.fix</th>\n",
              "      <th>last_core.fix</th>\n",
              "    </tr>\n",
              "  </thead>\n",
              "  <tbody>\n",
              "    <tr>\n",
              "      <th>0</th>\n",
              "      <td>2</td>\n",
              "      <td>1</td>\n",
              "      <td>212.0</td>\n",
              "      <td>211.0</td>\n",
              "    </tr>\n",
              "    <tr>\n",
              "      <th>1</th>\n",
              "      <td>1</td>\n",
              "      <td>1</td>\n",
              "      <td>138.0</td>\n",
              "      <td>137.0</td>\n",
              "    </tr>\n",
              "  </tbody>\n",
              "</table>\n",
              "</div>"
            ],
            "text/plain": [
              "   Language  Right_Or_Wrong  new_score.fix  last_core.fix\n",
              "0         2               1          212.0          211.0\n",
              "1         1               1          138.0          137.0"
            ]
          },
          "metadata": {},
          "execution_count": 22
        }
      ]
    },
    {
      "cell_type": "markdown",
      "metadata": {
        "id": "jXvWckM7SDcm"
      },
      "source": [
        "Now our Data have no null values.\n",
        "\n",
        "1.   Since we replaced na values with some numerical values, we will test if this did not affect our entire dataset\n",
        "2.   if the new values did not affect our dataset we will use the new data set for our model \n",
        "\n"
      ]
    },
    {
      "cell_type": "markdown",
      "metadata": {
        "id": "ibqFD0hFEg7d"
      },
      "source": [
        "##Handling an imblance dataset"
      ]
    },
    {
      "cell_type": "markdown",
      "metadata": {
        "id": "XFzYVlAPJSEC"
      },
      "source": [
        "We could see from above graph that the data is imbalanced, so we will fix this before we could build our model. "
      ]
    },
    {
      "cell_type": "code",
      "metadata": {
        "colab": {
          "base_uri": "https://localhost:8080/"
        },
        "id": "dnip5e9VqYRj",
        "outputId": "e3e4d3ea-5c50-4abe-cab4-918946fcb658"
      },
      "source": [
        "new_data.Language.value_counts()"
      ],
      "execution_count": null,
      "outputs": [
        {
          "output_type": "execute_result",
          "data": {
            "text/plain": [
              "2    255\n",
              "1    166\n",
              "0    157\n",
              "Name: Language, dtype: int64"
            ]
          },
          "metadata": {},
          "execution_count": 23
        }
      ]
    },
    {
      "cell_type": "code",
      "metadata": {
        "id": "Zf_ueLqoq5dC",
        "colab": {
          "base_uri": "https://localhost:8080/"
        },
        "outputId": "05468b0f-2c9c-4aed-96fe-a99df739894b"
      },
      "source": [
        "new_data.Right_Or_Wrong.value_counts()"
      ],
      "execution_count": null,
      "outputs": [
        {
          "output_type": "execute_result",
          "data": {
            "text/plain": [
              "1    500\n",
              "0     78\n",
              "Name: Right_Or_Wrong, dtype: int64"
            ]
          },
          "metadata": {},
          "execution_count": 24
        }
      ]
    },
    {
      "cell_type": "markdown",
      "metadata": {
        "id": "gcdhn-ny5Uhn"
      },
      "source": [
        "### Data Scalling  "
      ]
    },
    {
      "cell_type": "code",
      "metadata": {
        "id": "28NKLQSDljNa"
      },
      "source": [
        "from sklearn.preprocessing import MinMaxScaler\n",
        "from sklearn import preprocessing"
      ],
      "execution_count": null,
      "outputs": []
    },
    {
      "cell_type": "code",
      "metadata": {
        "id": "FbglMfGI5cdw"
      },
      "source": [
        "from sklearn.preprocessing import MinMaxScaler\n",
        "from sklearn import  preprocessing\n",
        "scaler = preprocessing.MinMaxScaler()\n",
        "new_data[['new_score.fix','last_core.fix']] =  scaler.fit_transform(new_data[['new_score.fix','last_core.fix']])"
      ],
      "execution_count": null,
      "outputs": []
    },
    {
      "cell_type": "markdown",
      "metadata": {
        "id": "htW5C7TRFHBL"
      },
      "source": [
        "##Model Fitting"
      ]
    },
    {
      "cell_type": "markdown",
      "metadata": {
        "id": "vcDhhZPYKd6N"
      },
      "source": [
        "We will use the methods called SMOTE over sampling to handle our imbalanced data\n"
      ]
    },
    {
      "cell_type": "code",
      "metadata": {
        "colab": {
          "base_uri": "https://localhost:8080/"
        },
        "id": "Mfce_J-ns2MY",
        "outputId": "b17e6c97-22c6-428e-c77a-d5fd065ab130"
      },
      "source": [
        "pip install -U delayed\n"
      ],
      "execution_count": null,
      "outputs": [
        {
          "output_type": "stream",
          "name": "stdout",
          "text": [
            "Collecting delayed\n",
            "  Downloading delayed-0.11.0b1-py2.py3-none-any.whl (19 kB)\n",
            "Collecting redis\n",
            "  Downloading redis-3.5.3-py2.py3-none-any.whl (72 kB)\n",
            "\u001b[K     |████████████████████████████████| 72 kB 431 kB/s \n",
            "\u001b[?25hCollecting hiredis\n",
            "  Downloading hiredis-2.0.0-cp37-cp37m-manylinux2010_x86_64.whl (85 kB)\n",
            "\u001b[K     |████████████████████████████████| 85 kB 3.8 MB/s \n",
            "\u001b[?25hInstalling collected packages: redis, hiredis, delayed\n",
            "Successfully installed delayed-0.11.0b1 hiredis-2.0.0 redis-3.5.3\n"
          ]
        }
      ]
    },
    {
      "cell_type": "code",
      "metadata": {
        "colab": {
          "base_uri": "https://localhost:8080/"
        },
        "id": "nvqyXJs6p9Bs",
        "outputId": "c7289496-ced7-40f8-8f00-f4976be14eeb"
      },
      "source": [
        "#from sklearn.model_selection import train_test_split\n",
        "from sklearn.model_selection import train_test_split\n",
        "X = new_data.drop('Right_Or_Wrong', axis=1)\n",
        "y = new_data['Right_Or_Wrong']\n",
        "\n",
        "X_train, X_test, y_train, y_test = train_test_split(\n",
        "    X, y, test_size=0.25, random_state=42\n",
        ")\n",
        "\n",
        "print(f'''% Positive class in Train = {np.round(y_train.value_counts(normalize=True)[1] * 100, 2)}\n",
        "% Positive class in Test  = {np.round(y_test.value_counts(normalize=True)[1] * 100, 2)}''')\n"
      ],
      "execution_count": null,
      "outputs": [
        {
          "output_type": "stream",
          "name": "stdout",
          "text": [
            "% Positive class in Train = 86.61\n",
            "% Positive class in Test  = 86.21\n"
          ]
        }
      ]
    },
    {
      "cell_type": "code",
      "metadata": {
        "id": "TsP1EYzvgF1f"
      },
      "source": [
        "##### building a random forest model"
      ],
      "execution_count": null,
      "outputs": []
    },
    {
      "cell_type": "code",
      "metadata": {
        "colab": {
          "base_uri": "https://localhost:8080/",
          "height": 443
        },
        "id": "IpxsGdx8u-33",
        "outputId": "b365c1b3-8fea-4e08-c017-84455bcf54ac"
      },
      "source": [
        "from sklearn.ensemble import RandomForestClassifier\n",
        "from sklearn.metrics import accuracy_score, recall_score, confusion_matrix\n",
        "\n",
        "# Train\n",
        "model = RandomForestClassifier(random_state=42)\n",
        "model.fit(X_train, y_train)\n",
        "preds = model.predict(X_test)\n",
        "\n",
        "# Evaluate\n",
        "print(f'Accuracy = {accuracy_score(y_test, preds):.2f}\\nRecall = {recall_score(y_test, preds):.2f}\\n')\n",
        "cm = confusion_matrix(y_test, preds)\n",
        "plt.figure(figsize=(8, 6))\n",
        "plt.title('Confusion Matrix (without SMOTE)', size=16)\n",
        "sns.heatmap(cm, annot=True, cmap='Blues');"
      ],
      "execution_count": null,
      "outputs": [
        {
          "output_type": "stream",
          "name": "stdout",
          "text": [
            "Accuracy = 0.81\n",
            "Recall = 0.86\n",
            "\n"
          ]
        },
        {
          "output_type": "display_data",
          "data": {
            "image/png": "[encoded data removed]",
            "text/plain": [
              "<Figure size 576x432 with 2 Axes>"
            ]
          },
          "metadata": {
            "needs_background": "light"
          }
        }
      ]
    },
    {
      "cell_type": "markdown",
      "metadata": {
        "id": "TL7LXrW1vh6O"
      },
      "source": [
        "### We will use a smote methods \n",
        "\n",
        "Although our model is already 81% we can not use it since our data is unbalnced thats why we will use the smote model to get the accurate results"
      ]
    },
    {
      "cell_type": "code",
      "metadata": {
        "colab": {
          "base_uri": "https://localhost:8080/"
        },
        "id": "9HhwVFsFqvvC",
        "outputId": "f8e0a00f-8f21-4caa-b934-dfc2b59765c3"
      },
      "source": [
        "#from imblearn.over_sampling import smote\n",
        "import imblearn\n",
        "from imblearn.over_sampling import SMOTE\n",
        "\n",
        "sm = SMOTE(random_state = 42)\n",
        "\n",
        "X_sm, y_sm = sm.fit_resample(X,y)\n",
        "\n",
        "print(f'''Shape of X before SMOTE: {X.shape}\n",
        "Shape of X after SMOTE: {X_sm.shape}''')\n",
        "\n",
        "print('\\nBalance of positive and negative classes (%):')\n",
        "#y_sm.value_counts(normalize=True) * 100"
      ],
      "execution_count": null,
      "outputs": [
        {
          "output_type": "stream",
          "name": "stdout",
          "text": [
            "Shape of X before SMOTE: (578, 3)\n",
            "Shape of X after SMOTE: (1000, 3)\n",
            "\n",
            "Balance of positive and negative classes (%):\n"
          ]
        },
        {
          "output_type": "stream",
          "name": "stderr",
          "text": [
            "/usr/local/lib/python3.7/dist-packages/sklearn/utils/deprecation.py:87: FutureWarning: Function safe_indexing is deprecated; safe_indexing is deprecated in version 0.22 and will be removed in version 0.24.\n",
            "  warnings.warn(msg, category=FutureWarning)\n"
          ]
        }
      ]
    },
    {
      "cell_type": "code",
      "metadata": {
        "colab": {
          "base_uri": "https://localhost:8080/",
          "height": 443
        },
        "id": "hbduTBmSy_Mo",
        "outputId": "b30dbdfa-1a1b-488f-b5e5-3dc05fca8eb9"
      },
      "source": [
        "X_train, X_test, y_train, y_test = train_test_split(\n",
        "    X_sm, y_sm, test_size=0.25, random_state=42\n",
        ")\n",
        "\n",
        "model = RandomForestClassifier(random_state=42)\n",
        "model.fit(X_train, y_train)\n",
        "preds = model.predict(X_test)\n",
        "\n",
        "print(f'Accuracy = {accuracy_score(y_test, preds):.2f}\\nRecall = {recall_score(y_test, preds):.2f}\\n')\n",
        "cm = confusion_matrix(y_test, preds)\n",
        "plt.figure(figsize=(8, 6))\n",
        "plt.title('Confusion Matrix (with SMOTE)', size=16)\n",
        "sns.heatmap(cm, annot=True, cmap='Blues');\n"
      ],
      "execution_count": null,
      "outputs": [
        {
          "output_type": "stream",
          "name": "stdout",
          "text": [
            "Accuracy = 0.76\n",
            "Recall = 0.72\n",
            "\n"
          ]
        },
        {
          "output_type": "display_data",
          "data": {
            "image/png": "[encoded data removed]",
            "text/plain": [
              "<Figure size 576x432 with 2 Axes>"
            ]
          },
          "metadata": {
            "needs_background": "light"
          }
        }
      ]
    },
    {
      "cell_type": "code",
      "metadata": {
        "colab": {
          "base_uri": "https://localhost:8080/"
        },
        "id": "DRK7Oqd87kTC",
        "outputId": "7641606f-a8c8-466f-f491-54e98ebf60cf"
      },
      "source": [
        "from sklearn.linear_model import LogisticRegression\n",
        "from sklearn import metrics\n",
        "\n",
        "X_train, X_test, y_train, y_test = train_test_split(X_sm, y_sm, test_size=0.25, random_state=42)\n",
        "logreg = LogisticRegression()\n",
        "logreg.fit(X_train, y_train)\n",
        "y_pred = logreg.predict(X_test)\n",
        "print('Accuracy of logistic regression classifier on test set: {:.2f}'.format(logreg.score(X_test, y_test)))"
      ],
      "execution_count": null,
      "outputs": [
        {
          "output_type": "execute_result",
          "data": {
            "text/plain": [
              "LogisticRegression(C=1.0, class_weight=None, dual=False, fit_intercept=True,\n",
              "                   intercept_scaling=1, l1_ratio=None, max_iter=100,\n",
              "                   multi_class='auto', n_jobs=None, penalty='l2',\n",
              "                   random_state=None, solver='lbfgs', tol=0.0001, verbose=0,\n",
              "                   warm_start=False)"
            ]
          },
          "metadata": {},
          "execution_count": 42
        }
      ]
    },
    {
      "cell_type": "code",
      "metadata": {
        "colab": {
          "base_uri": "https://localhost:8080/",
          "height": 443
        },
        "id": "bRA4MEk2-2pm",
        "outputId": "9ec11b16-705f-4737-a7c7-3da8bae0d265"
      },
      "source": [
        "X_train, X_test, y_train, y_test = train_test_split(\n",
        "    X_sm, y_sm, test_size=0.25, random_state=42\n",
        ")\n",
        "\n",
        "model = LogisticRegression(random_state=42)\n",
        "model.fit(X_train, y_train)\n",
        "preds = model.predict(X_test)\n",
        "\n",
        "print(f'Accuracy = {accuracy_score(y_test, preds):.2f}\\nRecall = {recall_score(y_test, preds):.2f}\\n')\n",
        "cm = confusion_matrix(y_test, preds)\n",
        "plt.figure(figsize=(8, 6))\n",
        "plt.title('Confusion Matrix (with SMOTE)', size=16)\n",
        "sns.heatmap(cm, annot=True, cmap='Blues');\n"
      ],
      "execution_count": null,
      "outputs": [
        {
          "output_type": "stream",
          "name": "stdout",
          "text": [
            "Accuracy = 0.79\n",
            "Recall = 0.68\n",
            "\n"
          ]
        },
        {
          "output_type": "display_data",
          "data": {
            "image/png": "[encoded data removed]",
            "text/plain": [
              "<Figure size 576x432 with 2 Axes>"
            ]
          },
          "metadata": {
            "needs_background": "light"
          }
        }
      ]
    },
    {
      "cell_type": "code",
      "metadata": {
        "colab": {
          "base_uri": "https://localhost:8080/",
          "height": 443
        },
        "id": "pPIcIaQ-AJYh",
        "outputId": "d62ed6c3-27fd-421d-9a72-f2f44e898bac"
      },
      "source": [
        "from sklearn.naive_bayes import GaussianNB\n",
        "\n",
        "X_train, X_test, y_train, y_test = train_test_split(\n",
        "    X_sm, y_sm, test_size=0.25, random_state=42\n",
        ")\n",
        "\n",
        "model = GaussianNB()\n",
        "model.fit(X_train, y_train)\n",
        "preds = model.predict(X_test)\n",
        "\n",
        "print(f'Accuracy = {accuracy_score(y_test, preds):.2f}\\nRecall = {recall_score(y_test, preds):.2f}\\n')\n",
        "cm = confusion_matrix(y_test, preds)\n",
        "plt.figure(figsize=(8, 6))\n",
        "plt.title('Confusion Matrix (with SMOTE)', size=16)\n",
        "sns.heatmap(cm, annot=True, cmap='Blues');\n"
      ],
      "execution_count": null,
      "outputs": [
        {
          "output_type": "stream",
          "name": "stdout",
          "text": [
            "Accuracy = 0.74\n",
            "Recall = 0.66\n",
            "\n"
          ]
        },
        {
          "output_type": "display_data",
          "data": {
            "image/png": "[encoded data removed]",
            "text/plain": [
              "<Figure size 576x432 with 2 Axes>"
            ]
          },
          "metadata": {
            "needs_background": "light"
          }
        }
      ]
    },
    {
      "cell_type": "code",
      "metadata": {
        "colab": {
          "base_uri": "https://localhost:8080/"
        },
        "id": "Eu3i5OF7IU30",
        "outputId": "77cedecc-2601-41d1-f3e9-223028ef56a2"
      },
      "source": [
        "len(X_train.columns)"
      ],
      "execution_count": null,
      "outputs": [
        {
          "output_type": "execute_result",
          "data": {
            "text/plain": [
              "3"
            ]
          },
          "metadata": {},
          "execution_count": 44
        }
      ]
    },
    {
      "cell_type": "code",
      "metadata": {
        "id": "ozQwcPDiHuPn"
      },
      "source": [
        "###### We will use our last option which is artificial neural network \n",
        "\n",
        "import tensorflow as tf\n",
        "from tensorflow import keras "
      ],
      "execution_count": null,
      "outputs": []
    },
    {
      "cell_type": "code",
      "metadata": {
        "colab": {
          "base_uri": "https://localhost:8080/"
        },
        "id": "zdsF_sRegAWT",
        "outputId": "8d920ced-03a2-4893-e115-f82b596f9afa"
      },
      "source": [
        "from sklearn.svm import SVC\n",
        "from sklearn.metrics import accuracy_score\n",
        "\n",
        "X_train, X_test, y_train, y_test = train_test_split(\n",
        "    X_sm, y_sm, test_size=0.25, random_state=42\n",
        ")\n",
        "\n",
        "clf = SVC(kernel='linear')\n",
        "clf.fit(X_train,y_train)\n",
        "y_pred = clf.predict(X_test)\n",
        "print(accuracy_score(y_test,y_pred))"
      ],
      "execution_count": null,
      "outputs": [
        {
          "output_type": "stream",
          "name": "stdout",
          "text": [
            "0.756\n"
          ]
        }
      ]
    },
    {
      "cell_type": "code",
      "metadata": {
        "colab": {
          "base_uri": "https://localhost:8080/",
          "height": 443
        },
        "id": "qkfGn3a3jvVE",
        "outputId": "82d458af-5b5c-4cec-b0f4-17ed23723923"
      },
      "source": [
        "from sklearn.preprocessing import StandardScaler\n",
        "from sklearn.neighbors import KNeighborsClassifier \n",
        "from sklearn import metrics\n",
        "import pickle\n",
        "\n",
        "X_train, X_test, y_train, y_test = train_test_split(\n",
        "    X_sm, y_sm, test_size=0.25\n",
        ")\n",
        "\n",
        "knn= KNeighborsClassifier(n_neighbors=7)\n",
        "knn.fit(X_train,y_train)\n",
        "y_pred= knn.predict(X_test)\n",
        "metrics.accuracy_score(y_test,y_pred)\n",
        "\n",
        "\n",
        "print(f'Accuracy = {metrics.accuracy_score(y_test,y_pred):.2f}\\nRecall = {recall_score(y_test, preds):.2f}\\n')\n",
        "plt.figure(figsize=(8, 6))\n",
        "plt.title('KNeighbors Classifier (with SMOTE)', size=16)\n",
        "sns.heatmap(cm, annot=True, cmap='Blues');\n",
        "\n",
        "pickle.dump(knn, open(\"KNeighborsClassifierModel.pkl\",\"wb\"))"
      ],
      "execution_count": null,
      "outputs": [
        {
          "output_type": "stream",
          "name": "stdout",
          "text": [
            "Accuracy = 0.84\n",
            "Recall = 0.40\n",
            "\n"
          ]
        },
        {
          "output_type": "display_data",
          "data": {
            "image/png": "[encoded data removed]",
            "text/plain": [
              "<Figure size 576x432 with 2 Axes>"
            ]
          },
          "metadata": {
            "needs_background": "light"
          }
        }
      ]
    },
    {
      "cell_type": "code",
      "metadata": {
        "colab": {
          "base_uri": "https://localhost:8080/"
        },
        "id": "FKI9AhGnlBia",
        "outputId": "9912632c-cf70-4e19-c5aa-b96e91031354"
      },
      "source": [
        "from sklearn.naive_bayes import GaussianNB\n",
        "\n",
        "X_train, X_test, y_train, y_test = train_test_split(\n",
        "    X_sm, y_sm, test_size=0.25, random_state=42\n",
        ")\n",
        "\n",
        "classifier = GaussianNB()\n",
        "classifier.fit(X_train, y_train)\n",
        "\n",
        "from sklearn.metrics import confusion_matrix,accuracy_score\n",
        "cm = confusion_matrix(y_test, y_pred)\n",
        "ac = accuracy_score(y_test,y_pred)\n",
        "print(ac)"
      ],
      "execution_count": null,
      "outputs": [
        {
          "output_type": "stream",
          "name": "stdout",
          "text": [
            "0.812\n"
          ]
        }
      ]
    },
    {
      "cell_type": "markdown",
      "metadata": {
        "id": "4Hp8-jbg4V_Q"
      },
      "source": [
        "###We will create an app using fastAPA"
      ]
    },
    {
      "cell_type": "code",
      "metadata": {
        "colab": {
          "base_uri": "https://localhost:8080/"
        },
        "id": "0oH8kifnoh-p",
        "outputId": "2d774b34-c8a9-4c2a-fa1a-44f39acc9b83"
      },
      "source": [
        "%%writefile model.py\n",
        "\n",
        "from pydantic import BaseModel, conlist\n",
        "from typing import List\n",
        "\n",
        "class googlemodel(BaseModel):\n",
        "  data:List[conlist(float,min_items=3,max_items=3)]"
      ],
      "execution_count": null,
      "outputs": [
        {
          "output_type": "stream",
          "name": "stdout",
          "text": [
            "Writing model.py\n"
          ]
        }
      ]
    },
    {
      "cell_type": "code",
      "metadata": {
        "colab": {
          "base_uri": "https://localhost:8080/",
          "height": 231
        },
        "id": "-YK7D96H3SAB",
        "outputId": "4b89c06c-9e48-4625-c3ff-0d66aac1e696"
      },
      "source": [
        "import pickle\n",
        "import logging\n",
        "from fastapi import FastAPI\n",
        "\n",
        "\n",
        "app = FastAPI(tittle=\"Google ML as API\", description=\"Using FastAPI on ColabCode\", version=\"1.0\" )\n",
        "\n",
        "\n",
        "# # Initialize logging\n",
        "# my_logger = logging.getLogger()\n",
        "# my_logger.setLevel(logging.DEBUG)\n",
        "# logging.basicConfig(level=logging.DEBUG, filename='logs.log')\n",
        "\n",
        "model = None\n",
        "\n",
        "@app.on_event(\"startup\")\n",
        "def load_model():\n",
        "    global model\n",
        "    model = pickle.load(open(\"KNeighborsClassifierModel.pkl\", \"rb\"))\n",
        "\n",
        "@app.post(\"/api\", tags=[\"prediction\"])\n",
        "async def get_predictions(y_test: preds):\n",
        "    try:\n",
        "        data = dict(estimate)['data']\n",
        "        print(data)\n",
        "        iris_types = {\n",
        "            0: 'email',\n",
        "            1: 'Langu',\n",
        "            2: 'Question' ### prop of right or wrong\n",
        "        }\n",
        "        prediction = list(map(lambda x: iris_types[x], model.predict(data).tolist()))\n",
        "        log_proba = model.predict_log_proba(data).tolist()\n",
        "        return {\"prediction\": prediction, \"log_proba\": log_proba}\n",
        "    except:\n",
        "        my_logger.error(\"Something went wrong!\")\n",
        "        return {\"prediction\": \"error\"}"
      ],
      "execution_count": null,
      "outputs": [
        {
          "output_type": "error",
          "ename": "NameError",
          "evalue": "ignored",
          "traceback": [
            "\u001b[0;31m---------------------------------------------------------------------------\u001b[0m",
            "\u001b[0;31mNameError\u001b[0m                                 Traceback (most recent call last)",
            "\u001b[0;32m<ipython-input-4-8a618ac1c6e3>\u001b[0m in \u001b[0;36m<module>\u001b[0;34m()\u001b[0m\n\u001b[1;32m     20\u001b[0m \u001b[0;34m\u001b[0m\u001b[0m\n\u001b[1;32m     21\u001b[0m \u001b[0;34m@\u001b[0m\u001b[0mapp\u001b[0m\u001b[0;34m.\u001b[0m\u001b[0mpost\u001b[0m\u001b[0;34m(\u001b[0m\u001b[0;34m\"/api\"\u001b[0m\u001b[0;34m,\u001b[0m \u001b[0mtags\u001b[0m\u001b[0;34m=\u001b[0m\u001b[0;34m[\u001b[0m\u001b[0;34m\"prediction\"\u001b[0m\u001b[0;34m]\u001b[0m\u001b[0;34m)\u001b[0m\u001b[0;34m\u001b[0m\u001b[0;34m\u001b[0m\u001b[0m\n\u001b[0;32m---> 22\u001b[0;31m \u001b[0;32masync\u001b[0m \u001b[0;32mdef\u001b[0m \u001b[0mget_predictions\u001b[0m\u001b[0;34m(\u001b[0m\u001b[0my_test\u001b[0m\u001b[0;34m:\u001b[0m \u001b[0mpreds\u001b[0m\u001b[0;34m)\u001b[0m\u001b[0;34m:\u001b[0m\u001b[0;34m\u001b[0m\u001b[0;34m\u001b[0m\u001b[0m\n\u001b[0m\u001b[1;32m     23\u001b[0m     \u001b[0;32mtry\u001b[0m\u001b[0;34m:\u001b[0m\u001b[0;34m\u001b[0m\u001b[0;34m\u001b[0m\u001b[0m\n\u001b[1;32m     24\u001b[0m         \u001b[0mdata\u001b[0m \u001b[0;34m=\u001b[0m \u001b[0mdict\u001b[0m\u001b[0;34m(\u001b[0m\u001b[0mestimate\u001b[0m\u001b[0;34m)\u001b[0m\u001b[0;34m[\u001b[0m\u001b[0;34m'data'\u001b[0m\u001b[0;34m]\u001b[0m\u001b[0;34m\u001b[0m\u001b[0;34m\u001b[0m\u001b[0m\n",
            "\u001b[0;31mNameError\u001b[0m: name 'preds' is not defined"
          ]
        }
      ]
    }
  ]
}